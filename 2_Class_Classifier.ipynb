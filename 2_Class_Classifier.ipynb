{
 "cells": [
  {
   "cell_type": "markdown",
   "metadata": {},
   "source": [
    "# Neural Network"
   ]
  },
  {
   "cell_type": "code",
   "execution_count": 134,
   "metadata": {
    "collapsed": true
   },
   "outputs": [],
   "source": [
    "import numpy as np\n",
    "import matplotlib\n",
    "import matplotlib.pyplot as plt\n",
    "%matplotlib inline \n",
    "# sets backend of matplotlib to appear inline\n",
    "import math\n",
    "import copy\n",
    "\n",
    "training=np.loadtxt('Data_set.txt')\n",
    "\n",
    "N=training.shape[0]\n",
    "\n",
    "data= copy.deepcopy(training) # to deepcopy a list\n",
    "\n",
    "\n"
   ]
  },
  {
   "cell_type": "markdown",
   "metadata": {},
   "source": [
    "# Activation Function"
   ]
  },
  {
   "cell_type": "code",
   "execution_count": null,
   "metadata": {
    "collapsed": true
   },
   "outputs": [],
   "source": [
    "# def ActFunction(,alpha):\n",
    "# Define if needed as a separate function"
   ]
  },
  {
   "cell_type": "markdown",
   "metadata": {},
   "source": [
    "# epochs / other parameters "
   ]
  },
  {
   "cell_type": "code",
   "execution_count": 136,
   "metadata": {
    "collapsed": true
   },
   "outputs": [],
   "source": [
    "convergence=500\n",
    "step_Output=0.01\n",
    "step_Hidden=0.01"
   ]
  },
  {
   "cell_type": "markdown",
   "metadata": {},
   "source": [
    "# Training the Net"
   ]
  },
  {
   "cell_type": "code",
   "execution_count": 137,
   "metadata": {},
   "outputs": [
    {
     "name": "stdout",
     "output_type": "stream",
     "text": [
      "weight randomized\n",
      "epoch number : 0\n",
      "\n",
      "\n",
      "epoch number : 100\n",
      "\n",
      "\n",
      "epoch number : 200\n",
      "\n",
      "\n",
      "epoch number : 300\n",
      "\n",
      "\n",
      "epoch number : 400\n",
      "\n",
      "\n"
     ]
    },
    {
     "data": {
      "text/plain": [
       "<matplotlib.collections.PathCollection at 0x118a4bbe0>"
      ]
     },
     "execution_count": 137,
     "metadata": {},
     "output_type": "execute_result"
    },
    {
     "data": {
      "image/png": "[encoded data removed]",
      "text/plain": [
       "<matplotlib.figure.Figure at 0x11899f4e0>"
      ]
     },
     "metadata": {},
     "output_type": "display_data"
    }
   ],
   "source": [
    "\n",
    "for epoch in range(0,convergence):\n",
    "    \n",
    "    \n",
    "    # Shuffling the data to represent the data better\n",
    "    np.random.shuffle(data)\n",
    "    \n",
    "    x=data[:,0:2] # input data    Rows = Samples ; Columns =Dimensions - N x d matrix\n",
    "    d=data[:,2] # Desired values\n",
    "    \n",
    "    #Forward feed\n",
    "    # Input(d=2) - Hidden layer(i=2)\n",
    "    \n",
    "    x_Input2Hidden=np.insert(x,2,1,axis=1) # N x d+1 matrix\n",
    "        \n",
    "    # For First epoch , first iteration\n",
    "    if epoch==0:\n",
    "        w_Input2Hidden=np.random.rand(2,3)   # form i x (d+1) matrix ; d=2 ,i=2\n",
    "        w_Hidden2Output=np.random.rand(1,3)  # form j x (i+1) matrix ; j=1 ,i=2\n",
    "        print('weight randomized')\n",
    "    # End of weight initialize\n",
    "    # Alpha value for logist activation function\n",
    "    alpha=1\n",
    "\n",
    "    \n",
    "    for sample in range(0,N):\n",
    "        \n",
    "        #Forward Feed\n",
    "        sum_HiddenLayer= w_Input2Hidden @ x_Input2Hidden[sample,:].T  # i x 1 matrix\n",
    "        activation_HiddenLayer=( 1/ ( 1 + np.exp(-alpha * sum_HiddenLayer ))) # i x 1 matrix\n",
    "        \n",
    "        \n",
    "        x_Hidden2Output = np.append(activation_HiddenLayer,1) # 1 x i+1 matrix\n",
    "        sum_OutputLayer= w_Hidden2Output @ x_Hidden2Output\n",
    "        activation_OutputLayer=( 1/ ( 1 + np.exp(-alpha * sum_OutputLayer ))) # Scalar\n",
    "        \n",
    "        y=activation_OutputLayer # Scalar\n",
    "        \n",
    "        error_atOutput=d[sample]-y # Scalar\n",
    "        \n",
    "        \n",
    "        # Back Propagation\n",
    "        \n",
    "        # Output back to Hidden\n",
    "        \n",
    "        sigma_Differential_Output= activation_OutputLayer * (1-activation_OutputLayer) #Scalar\n",
    "        del_Output= error_atOutput *-1* sigma_Differential_Output #Scalar\n",
    "        \n",
    "        w_Hidden2Output= w_Hidden2Output - step_Output * del_Output *x_Hidden2Output # 1 x i+1 matrix\n",
    "        \n",
    "        \n",
    "        # Hidden Back to input\n",
    "        \n",
    "        sigma_Differential_Hidden= ( activation_HiddenLayer*(1 - activation_HiddenLayer))\n",
    "        del_Hidden= (del_Output*w_Hidden2Output[0,0:2]) * sigma_Differential_Hidden # 1 x i matrix\n",
    "        \n",
    "        w_Input2Hidden = w_Input2Hidden - step_Hidden * del_Hidden.reshape(2,1) * x_Input2Hidden[sample,:]\n",
    "        # 2 x 3 matrix = 2 x 3 matrix  - scalar.    * 2 x 1 matrix            *  1 x 3 matrix\n",
    "        #print(w_Input2Hidden)\n",
    "        \n",
    "    if epoch%100 ==0:\n",
    "        print('epoch number : ' + str(epoch))\n",
    "        print('\\n')\n",
    "        \n",
    "\n",
    "    \n",
    "\n",
    "    \n",
    "# Decision Lines\n",
    "\n",
    "wline=w_Input2Hidden\n",
    "axes=np.arange(-2,2,0.1)\n",
    "\n",
    "line_1= -1*( wline[0,1]/wline[0,0] *axes + wline[0,2]/wline[0,0])\n",
    "line_2= -1*( wline[1,1]/wline[1,0] *axes + wline[1,2]/wline[1,0])\n",
    "\n",
    "plt.plot(axes,line_1)\n",
    "plt.plot(axes,line_2)\n",
    "plt.scatter(training[:,0],training[:,1])"
   ]
  },
  {
   "cell_type": "code",
   "execution_count": null,
   "metadata": {
    "collapsed": true
   },
   "outputs": [],
   "source": []
  }
 ],
 "metadata": {
  "kernelspec": {
   "display_name": "Python 3",
   "language": "python",
   "name": "python3"
  },
  "language_info": {
   "codemirror_mode": {
    "name": "ipython",
    "version": 3
   },
   "file_extension": ".py",
   "mimetype": "text/x-python",
   "name": "python",
   "nbconvert_exporter": "python",
   "pygments_lexer": "ipython3",
   "version": "3.5.4"
  }
 },
 "nbformat": 4,
 "nbformat_minor": 2
}
